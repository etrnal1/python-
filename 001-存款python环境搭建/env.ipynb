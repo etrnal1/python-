{
 "cells": [
  {
   "cell_type": "code",
   "execution_count": null,
   "metadata": {},
   "outputs": [],
   "source": [
    "如何去python 官网下载安装包\n",
    "\n",
    "去vscode 官网下载vscode [code runner ]\n",
    "\n",
    "  配置 // \n",
    "\n",
    "去 pycharm 官网下载pycharm\n",
    "\n",
    "安装python 包 交互式编辑器，一个英文文档，也算是编辑器\n",
    "\n",
    "\n",
    "\n"
   ]
  }
 ],
 "metadata": {
  "language_info": {
   "name": "python"
  }
 },
 "nbformat": 4,
 "nbformat_minor": 2
}
